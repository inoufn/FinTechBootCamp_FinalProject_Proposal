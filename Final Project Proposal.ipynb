{
 "cells": [
  {
   "cell_type": "markdown",
   "id": "cd035b52",
   "metadata": {},
   "source": [
    "# Project Proposal\n",
    "\n",
    "# Group Number : 5 \n",
    "\n",
    "## Group Name - FinYoth\n",
    "\n",
    "## Group Members :\n",
    "### - Nouf Almekawed\n",
    "### - Zainab Aldagdoug\n",
    "### - Reem Alrashidy\n",
    "### - Kaloud Hurayb\n",
    "### - Sara Zubayen\n",
    "### - Afnan Albaqami\n",
    "\n",
    "\n",
    "## Project: InsurTech using IoT and Blockchain Technology\n",
    "\n",
    "\n",
    "## What is your project? \n",
    "\n",
    "Our project is a service provided by an Insurance company using an insurance application. The idea is to send distress signals to the emergency in the event of an accident or fire (a life-saving service).\n",
    "The client’s health data will be entered within the application then, the data will be stored in the Blocks using Blockchain technology. In critical situations, when the sensor discovers anything abnormal, the application sends a signal to the nearest hospital to help the injured by using the IoT.\n",
    "\n",
    "___\n",
    "\n",
    "## What is required in order to complete your project?\n",
    "\n",
    "## Goals: \n",
    "1. IoT Simulation (6 Hrs) : *Main Goal*  Afnan ,Reem ,Sara -Using Nod-rest,MQTT\n",
    "\n",
    "2. Hospital App (6 Hrs) : *Main Goal*  Nouf ,Zainab ,Khaloud -Using Nod-rest,MQTT\n",
    "\n",
    "3. Build Blockchain Business Model (+10 Hrs): *Stretch Goal*  Nouf ,Zainab ,Khaloud -Using Python\n",
    "\n",
    "4. Presentation: All group members presente, screenshots from IPython Notebook code.Design presentation :Nouf\n",
    "\n",
    "\n",
    "## Presentation Time Estimate:\n",
    "30 minutes + Q/A\n",
    "\n",
    "\n"
   ]
  },
  {
   "cell_type": "code",
   "execution_count": null,
   "id": "8fc91a6d",
   "metadata": {},
   "outputs": [],
   "source": []
  }
 ],
 "metadata": {
  "kernelspec": {
   "display_name": "Python 3 (ipykernel)",
   "language": "python",
   "name": "python3"
  },
  "language_info": {
   "codemirror_mode": {
    "name": "ipython",
    "version": 3
   },
   "file_extension": ".py",
   "mimetype": "text/x-python",
   "name": "python",
   "nbconvert_exporter": "python",
   "pygments_lexer": "ipython3",
   "version": "3.9.7"
  }
 },
 "nbformat": 4,
 "nbformat_minor": 5
}
